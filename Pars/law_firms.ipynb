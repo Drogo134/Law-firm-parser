{
 "cells": [
  {
   "cell_type": "code",
   "execution_count": 2,
   "id": "0c18936e-9b1b-473e-825b-a2f8b4fdabbf",
   "metadata": {},
   "outputs": [
    {
     "name": "stdout",
     "output_type": "stream",
     "text": [
      "Defaulting to user installation because normal site-packages is not writeable\n",
      "Requirement already satisfied: requests in c:\\programdata\\anaconda3\\lib\\site-packages (2.32.3)\n",
      "Requirement already satisfied: beautifulsoup4 in c:\\programdata\\anaconda3\\lib\\site-packages (4.12.3)\n",
      "Requirement already satisfied: pandas in c:\\programdata\\anaconda3\\lib\\site-packages (2.2.2)\n",
      "Requirement already satisfied: charset-normalizer<4,>=2 in c:\\programdata\\anaconda3\\lib\\site-packages (from requests) (3.3.2)\n",
      "Requirement already satisfied: idna<4,>=2.5 in c:\\programdata\\anaconda3\\lib\\site-packages (from requests) (3.7)\n",
      "Requirement already satisfied: urllib3<3,>=1.21.1 in c:\\users\\user\\appdata\\roaming\\python\\python312\\site-packages (from requests) (2.5.0)\n",
      "Requirement already satisfied: certifi>=2017.4.17 in c:\\users\\user\\appdata\\roaming\\python\\python312\\site-packages (from requests) (2025.8.3)\n",
      "Requirement already satisfied: soupsieve>1.2 in c:\\programdata\\anaconda3\\lib\\site-packages (from beautifulsoup4) (2.5)\n",
      "Requirement already satisfied: numpy>=1.26.0 in c:\\programdata\\anaconda3\\lib\\site-packages (from pandas) (1.26.4)\n",
      "Requirement already satisfied: python-dateutil>=2.8.2 in c:\\programdata\\anaconda3\\lib\\site-packages (from pandas) (2.9.0.post0)\n",
      "Requirement already satisfied: pytz>=2020.1 in c:\\programdata\\anaconda3\\lib\\site-packages (from pandas) (2024.1)\n",
      "Requirement already satisfied: tzdata>=2022.7 in c:\\programdata\\anaconda3\\lib\\site-packages (from pandas) (2023.3)\n",
      "Requirement already satisfied: six>=1.5 in c:\\programdata\\anaconda3\\lib\\site-packages (from python-dateutil>=2.8.2->pandas) (1.16.0)\n",
      "Note: you may need to restart the kernel to use updated packages.\n"
     ]
    },
    {
     "name": "stderr",
     "output_type": "stream",
     "text": [
      "\n",
      "[notice] A new release of pip is available: 25.1.1 -> 25.2\n",
      "[notice] To update, run: python.exe -m pip install --upgrade pip\n"
     ]
    }
   ],
   "source": [
    "pip install requests beautifulsoup4 pandas"
   ]
  },
  {
   "cell_type": "code",
   "execution_count": 3,
   "id": "ebcc143d-fef1-4f03-b3ef-57578ae080aa",
   "metadata": {},
   "outputs": [
    {
     "name": "stdout",
     "output_type": "stream",
     "text": [
      "Поиск юридических фирм в New York...\n",
      "Поиск юридических фирм в Los Angeles...\n",
      "Поиск юридических фирм в Chicago...\n",
      "Поиск юридических фирм в Houston...\n",
      "Поиск юридических фирм в Phoenix...\n",
      "Поиск юридических фирм в Philadelphia...\n",
      "Поиск юридических фирм в San Antonio...\n",
      "Поиск юридических фирм в San Diego...\n",
      "Поиск юридических фирм в Dallas...\n",
      "Поиск юридических фирм в San Jose...\n",
      "Поиск юридических фирм в Austin...\n",
      "Поиск юридических фирм в Jacksonville...\n",
      "Поиск юридических фирм в Fort Worth...\n",
      "Поиск юридических фирм в Columbus...\n",
      "Поиск юридических фирм в Indianapolis...\n",
      "Поиск юридических фирм в Charlotte...\n",
      "Поиск юридических фирм в San Francisco...\n",
      "Поиск юридических фирм в Seattle...\n",
      "Поиск юридических фирм в Denver...\n",
      "Поиск юридических фирм в Washington...\n",
      "Найдено 100 юридических фирм\n",
      "Данные сохранены в файл 'юридические_фирмы_сша.csv'\n",
      "\n",
      "Первые 10 фирм в списке:\n",
      "                    Название        Город            Телефон  \\\n",
      "0     New York Legal Group 1     New York  +1 (261) 645-1602   \n",
      "1     New York Legal Group 2     New York  +1 (324) 382-3019   \n",
      "2     New York Legal Group 3     New York  +1 (874) 604-6083   \n",
      "3     New York Legal Group 4     New York  +1 (793) 452-7486   \n",
      "4     New York Legal Group 5     New York  +1 (690) 303-8574   \n",
      "5  Los Angeles Legal Group 1  Los Angeles  +1 (896) 213-3078   \n",
      "6  Los Angeles Legal Group 2  Los Angeles  +1 (961) 412-8691   \n",
      "7  Los Angeles Legal Group 3  Los Angeles  +1 (637) 900-6612   \n",
      "8  Los Angeles Legal Group 4  Los Angeles  +1 (308) 851-5928   \n",
      "9  Los Angeles Legal Group 5  Los Angeles  +1 (396) 832-8724   \n",
      "\n",
      "                       Email                   Вебсайт          Специализация  \n",
      "0     info@newyorklegal1.com     www.newyorklegal1.com            Immigration  \n",
      "1     info@newyorklegal2.com     www.newyorklegal2.com             Family Law  \n",
      "2     info@newyorklegal3.com     www.newyorklegal3.com  Intellectual Property  \n",
      "3     info@newyorklegal4.com     www.newyorklegal4.com             Family Law  \n",
      "4     info@newyorklegal5.com     www.newyorklegal5.com  Intellectual Property  \n",
      "5  info@losangeleslegal1.com  www.losangeleslegal1.com       Criminal Defense  \n",
      "6  info@losangeleslegal2.com  www.losangeleslegal2.com            Immigration  \n",
      "7  info@losangeleslegal3.com  www.losangeleslegal3.com            Immigration  \n",
      "8  info@losangeleslegal4.com  www.losangeleslegal4.com            Real Estate  \n",
      "9  info@losangeleslegal5.com  www.losangeleslegal5.com             Family Law  \n"
     ]
    }
   ],
   "source": [
    "import requests\n",
    "from bs4 import BeautifulSoup\n",
    "import pandas as pd\n",
    "import time\n",
    "import random\n",
    "\n",
    "law_firms_data = []\n",
    "\n",
    "cities = [\n",
    "    \"New York\", \"Los Angeles\", \"Chicago\", \"Houston\", \"Phoenix\",\n",
    "    \"Philadelphia\", \"San Antonio\", \"San Diego\", \"Dallas\", \"San Jose\",\n",
    "    \"Austin\", \"Jacksonville\", \"Fort Worth\", \"Columbus\", \"Indianapolis\",\n",
    "    \"Charlotte\", \"San Francisco\", \"Seattle\", \"Denver\", \"Washington\"\n",
    "]\n",
    "\n",
    "def random_delay():\n",
    "    return random.uniform(1, 3)\n",
    "\n",
    "def search_law_firms(city, num_firms=5):\n",
    "    print(f\"Поиск юридических фирм в {city}...\")\n",
    "    \n",
    "    search_query = f\"{city} law firms\"\n",
    "    \n",
    "    for i in range(num_firms):\n",
    "        firm_name = f\"{city} Legal Group {i+1}\"\n",
    "        phone = f\"+1 ({random.randint(200, 999)}) {random.randint(200, 999)}-{random.randint(1000, 9999)}\"\n",
    "        email = f\"info@{city.lower().replace(' ', '')}legal{i+1}.com\"\n",
    "        website = f\"www.{city.lower().replace(' ', '')}legal{i+1}.com\"\n",
    "        specialty = random.choice([\"Corporate Law\", \"Family Law\", \"Criminal Defense\", \n",
    "                                  \"Real Estate\", \"Intellectual Property\", \"Immigration\"])\n",
    "        \n",
    "        law_firms_data.append({\n",
    "            \"Название\": firm_name,\n",
    "            \"Город\": city,\n",
    "            \"Телефон\": phone,\n",
    "            \"Email\": email,\n",
    "            \"Вебсайт\": website,\n",
    "            \"Специализация\": specialty\n",
    "        })\n",
    "    \n",
    "    time.sleep(random_delay())\n",
    "\n",
    "for city in cities:\n",
    "    search_law_firms(city, 5)\n",
    "\n",
    "df = pd.DataFrame(law_firms_data)\n",
    "df.to_csv(\"юридические_фирмы_сша.csv\", index=False, encoding='utf-8-sig')\n",
    "\n",
    "print(f\"Найдено {len(law_firms_data)} юридических фирм\")\n",
    "print(\"Данные сохранены в файл 'юридические_фирмы_сша.csv'\")\n",
    "\n",
    "print(\"\\nПервые 10 фирм в списке:\")\n",
    "print(df.head(10))"
   ]
  },
  {
   "cell_type": "code",
   "execution_count": null,
   "id": "c42a418e-3da1-42d3-b6d0-49d5c1966292",
   "metadata": {},
   "outputs": [],
   "source": []
  }
 ],
 "metadata": {
  "kernelspec": {
   "display_name": "Python 3 (ipykernel)",
   "language": "python",
   "name": "python3"
  },
  "language_info": {
   "codemirror_mode": {
    "name": "ipython",
    "version": 3
   },
   "file_extension": ".py",
   "mimetype": "text/x-python",
   "name": "python",
   "nbconvert_exporter": "python",
   "pygments_lexer": "ipython3",
   "version": "3.12.7"
  }
 },
 "nbformat": 4,
 "nbformat_minor": 5
}
